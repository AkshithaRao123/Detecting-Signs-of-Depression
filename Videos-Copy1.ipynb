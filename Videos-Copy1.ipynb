{
 "cells": [
  {
   "cell_type": "code",
   "execution_count": 1,
   "metadata": {},
   "outputs": [],
   "source": [
    "# !pip install PyWavelets\n",
    "# !pip install -U mediapipe \n",
    "# !pip install cohere\n",
    "# !pip install empath"
   ]
  },
  {
   "cell_type": "code",
   "execution_count": 2,
   "metadata": {
    "id": "7wKVeQsdK7cH"
   },
   "outputs": [],
   "source": [
    "# !pip install git+https://github.com/openai/whisper.git \n",
    "# !conda install -c conda-forge ffmpeg -y"
   ]
  },
  {
   "cell_type": "code",
   "execution_count": 3,
   "metadata": {},
   "outputs": [],
   "source": [
    "# !pip freeze"
   ]
  },
  {
   "cell_type": "code",
   "execution_count": 4,
   "metadata": {
    "id": "EZ83Ql6F-LuP"
   },
   "outputs": [],
   "source": [
    "import cv2\n",
    "import matplotlib.pyplot as plt\n",
    "import numpy as np\n",
    "import pywt\n",
    "import joblib\n",
    "import mediapipe as mp"
   ]
  },
  {
   "cell_type": "code",
   "execution_count": 5,
   "metadata": {
    "id": "HO2GBX7CCEWA"
   },
   "outputs": [],
   "source": [
    "# Create a VideoCapture object and read from input file\n",
    "cap = cv2.VideoCapture('video.mp4')\n",
    "\n",
    "# Check if camera opened successfully\n",
    "if (cap.isOpened()== False):\n",
    "    print(\"Error opening video file\")"
   ]
  },
  {
   "cell_type": "code",
   "execution_count": 6,
   "metadata": {},
   "outputs": [],
   "source": [
    "findFace = mp.solutions.face_detection.FaceDetection()\n",
    "def faceBox(frame):\n",
    "    try:\n",
    "        frameRGB = cv2.cvtColor(frame,cv2.COLOR_BGR2RGB)\n",
    "    except:\n",
    "        return []\n",
    "    results = findFace.process(frameRGB)\n",
    "    myFaces = []\n",
    "    if results.detections != None:\n",
    "        for face in results.detections:\n",
    "            bBox = face.location_data.relative_bounding_box\n",
    "            myFaces.append(bBox)\n",
    "    return myFaces\n",
    "\n",
    "def w2d(img, wavelet, level=4):\n",
    "    imArray = img\n",
    "    # imArray = cv2.cvtColor(imArray,cv2.COLOR_BGR2GRAY)\n",
    "    imArray = np.float32(imArray)\n",
    "    imArray /= 255\n",
    "    coeffs = pywt.wavedec2(imArray, wavelet, level=level)\n",
    "    coeffs_H = list(coeffs)\n",
    "    coeffs_H[0] *= 0\n",
    "    arrH = pywt.waverec2(coeffs_H, mode)\n",
    "    arrH += 255\n",
    "    arrH = np.uint8(arrH)\n",
    "    return arrH"
   ]
  },
  {
   "cell_type": "code",
   "execution_count": 7,
   "metadata": {},
   "outputs": [
    {
     "name": "stderr",
     "output_type": "stream",
     "text": [
      "C:\\Users\\Ashwin-Rao\\anaconda3\\envs\\music\\Lib\\site-packages\\sklearn\\base.py:347: InconsistentVersionWarning: Trying to unpickle estimator StandardScaler from version 1.5.2 when using version 1.3.0. This might lead to breaking code or invalid results. Use at your own risk. For more info please refer to:\n",
      "https://scikit-learn.org/stable/model_persistence.html#security-maintainability-limitations\n",
      "  warnings.warn(\n",
      "C:\\Users\\Ashwin-Rao\\anaconda3\\envs\\music\\Lib\\site-packages\\sklearn\\base.py:347: InconsistentVersionWarning: Trying to unpickle estimator SVC from version 1.5.2 when using version 1.3.0. This might lead to breaking code or invalid results. Use at your own risk. For more info please refer to:\n",
      "https://scikit-learn.org/stable/model_persistence.html#security-maintainability-limitations\n",
      "  warnings.warn(\n",
      "C:\\Users\\Ashwin-Rao\\anaconda3\\envs\\music\\Lib\\site-packages\\sklearn\\base.py:347: InconsistentVersionWarning: Trying to unpickle estimator Pipeline from version 1.5.2 when using version 1.3.0. This might lead to breaking code or invalid results. Use at your own risk. For more info please refer to:\n",
      "https://scikit-learn.org/stable/model_persistence.html#security-maintainability-limitations\n",
      "  warnings.warn(\n"
     ]
    }
   ],
   "source": [
    "predicted_values = []; \n",
    "model = joblib.load(\"svm_model.joblib\")\n",
    "\n",
    "def analyse_frame(frame):\n",
    "    X = []\n",
    "    scaled_raw_img = cv2.resize(frame, (80,80))\n",
    "    img_har = w2d(frame,'bior2.2',4)\n",
    "    scaled_img_har = cv2.resize(img_har, (80,80))\n",
    "    combined_img = np.vstack((scaled_raw_img.reshape(80*80, 1), scaled_img_har.reshape(80*80*1, 1)))\n",
    "    X.append(combined_img)\n",
    "    plt.imshow(img_har, cmap='gray')\n",
    "\n",
    "    X = np.array(X).reshape(len(X), 12800).astype(float)\n",
    "    y_pred = model.predict(X)\n",
    "    predicted_values.append(y_pred)"
   ]
  },
  {
   "cell_type": "code",
   "execution_count": 9,
   "metadata": {},
   "outputs": [],
   "source": [
    "def preprocess_frame(frame):\n",
    "    faceBoxes = faceBox(frame)\n",
    "    height,width = frame.shape\n",
    "    x,y,w,h = int(faceBoxes[0].xmin*width),int(faceBoxes[0].ymin*height),int(faceBoxes[0].width*width),int(faceBoxes[0].height*height)\n",
    "    croppedImage = frame[y:y+h,x:x+w]\n",
    "    return croppedImage"
   ]
  },
  {
   "cell_type": "code",
   "execution_count": null,
   "metadata": {},
   "outputs": [],
   "source": [
    "# frame = cv2.imread(r\"C:\\Users\\Ashwin-Rao\\Downloads\\video_proj\\20241101_094851.jpg\", cv2.IMREAD_GRAYSCALE)\n",
    "# scaled_raw_img = preprocess_frame(frame)\n",
    "# analyse_frame(scaled_raw_img)"
   ]
  },
  {
   "cell_type": "code",
   "execution_count": null,
   "metadata": {},
   "outputs": [],
   "source": [
    "# predicted_values"
   ]
  },
  {
   "cell_type": "code",
   "execution_count": null,
   "metadata": {},
   "outputs": [],
   "source": [
    "# if predicted_values[0] == 0:\n",
    "#         print(\"Angry:\")\n",
    "# elif predicted_values[0] == 1:\n",
    "#         print(\"Disgusted:\")\n",
    "# elif predicted_values[0] == 2:\n",
    "#         print(\"Fearful:\")\n",
    "# elif predicted_values[0] == 3:\n",
    "#         print(\"Happy:\")\n",
    "# elif predicted_values[0] == 4:\n",
    "#         print(\"Neutral:\")\n",
    "# elif predicted_values[0] == 5:\n",
    "#         print(\"Sad:\")\n",
    "# elif predicted_values[0] == 6:\n",
    "#         print(\"Surprised:\")"
   ]
  },
  {
   "cell_type": "code",
   "execution_count": null,
   "metadata": {},
   "outputs": [],
   "source": []
  },
  {
   "cell_type": "code",
   "execution_count": null,
   "metadata": {},
   "outputs": [],
   "source": []
  },
  {
   "cell_type": "code",
   "execution_count": null,
   "metadata": {},
   "outputs": [],
   "source": []
  },
  {
   "cell_type": "code",
   "execution_count": 10,
   "metadata": {},
   "outputs": [
    {
     "name": "stderr",
     "output_type": "stream",
     "text": [
      "C:\\Users\\Ashwin-Rao\\anaconda3\\envs\\music\\Lib\\site-packages\\whisper\\__init__.py:150: FutureWarning: You are using `torch.load` with `weights_only=False` (the current default value), which uses the default pickle module implicitly. It is possible to construct malicious pickle data which will execute arbitrary code during unpickling (See https://github.com/pytorch/pytorch/blob/main/SECURITY.md#untrusted-models for more details). In a future release, the default value for `weights_only` will be flipped to `True`. This limits the functions that could be executed during unpickling. Arbitrary objects will no longer be allowed to be loaded via this mode unless they are explicitly allowlisted by the user via `torch.serialization.add_safe_globals`. We recommend you start setting `weights_only=True` for any use case where you don't have full control of the loaded file. Please open an issue on GitHub for any issues related to this experimental feature.\n",
      "  checkpoint = torch.load(fp, map_location=device)\n",
      "C:\\Users\\Ashwin-Rao\\anaconda3\\envs\\music\\Lib\\site-packages\\whisper\\transcribe.py:132: UserWarning: FP16 is not supported on CPU; using FP32 instead\n",
      "  warnings.warn(\"FP16 is not supported on CPU; using FP32 instead\")\n"
     ]
    },
    {
     "name": "stdout",
     "output_type": "stream",
     "text": [
      " A lot of people out there who struggle with depression or even subclinical depression where they don't necessarily have a diagnosis will struggle to pull themselves out of it. They'll analyze their situation and they'll recognize, okay, I need to do this or I need to do this, but they can't seem to despite all the logic bring themselves out of it. And on the flip side, we also have something incredibly scary, which is that sometimes when people are really, really depressed or even things like suicidal, they're actually really logical about it. And this is what's really challenging is if you try to talk to these people, you'll oftentimes find that their logic is actually really sound. And even in the cases when it's not really sound, you can try to convince them otherwise, but it seems like you sometimes hit a brick wall. And if you're struggling in this way, you may have noticed that you may try to argue against yourself, but your mind always comes to the same conclusion.\n"
     ]
    }
   ],
   "source": [
    "import whisper\n",
    "\n",
    "transcription_model = whisper.load_model(\"base\")\n",
    "result = transcription_model.transcribe(\"video.mp4\")\n",
    "print(result[\"text\"])"
   ]
  },
  {
   "cell_type": "code",
   "execution_count": null,
   "metadata": {},
   "outputs": [],
   "source": []
  },
  {
   "cell_type": "code",
   "execution_count": 11,
   "metadata": {},
   "outputs": [],
   "source": [
    "fps = cap.get(cv2.CAP_PROP_FPS)"
   ]
  },
  {
   "cell_type": "code",
   "execution_count": 12,
   "metadata": {},
   "outputs": [
    {
     "data": {
      "text/plain": [
       "60.0"
      ]
     },
     "execution_count": 12,
     "metadata": {},
     "output_type": "execute_result"
    }
   ],
   "source": [
    "fps"
   ]
  },
  {
   "cell_type": "code",
   "execution_count": null,
   "metadata": {},
   "outputs": [],
   "source": []
  },
  {
   "cell_type": "code",
   "execution_count": 13,
   "metadata": {
    "colab": {
     "base_uri": "https://localhost:8080/",
     "height": 1000
    },
    "id": "fcMXSjFjJM3J",
    "outputId": "c6665b03-0690-4c1c-af14-a196ece011ad"
   },
   "outputs": [
    {
     "name": "stderr",
     "output_type": "stream",
     "text": [
      "C:\\Users\\Ashwin-Rao\\anaconda3\\envs\\music\\Lib\\site-packages\\google\\protobuf\\symbol_database.py:55: UserWarning: SymbolDatabase.GetPrototype() is deprecated. Please use message_factory.GetMessageClass() instead. SymbolDatabase.GetPrototype() will be removed soon.\n",
      "  warnings.warn('SymbolDatabase.GetPrototype() is deprecated. Please '\n"
     ]
    },
    {
     "ename": "NameError",
     "evalue": "name 'mode' is not defined",
     "output_type": "error",
     "traceback": [
      "\u001b[1;31m---------------------------------------------------------------------------\u001b[0m",
      "\u001b[1;31mNameError\u001b[0m                                 Traceback (most recent call last)",
      "Cell \u001b[1;32mIn[13], line 14\u001b[0m\n\u001b[0;32m     12\u001b[0m frame \u001b[38;5;241m=\u001b[39m cv2\u001b[38;5;241m.\u001b[39mcvtColor(frame,cv2\u001b[38;5;241m.\u001b[39mCOLOR_BGR2GRAY)\n\u001b[0;32m     13\u001b[0m scaled_raw_img \u001b[38;5;241m=\u001b[39m preprocess_frame(frame)\n\u001b[1;32m---> 14\u001b[0m analyse_frame(scaled_raw_img)\n\u001b[0;32m     16\u001b[0m \u001b[38;5;66;03m# # Display the resulting frame\u001b[39;00m\n\u001b[0;32m     17\u001b[0m plt\u001b[38;5;241m.\u001b[39mfigure(figsize\u001b[38;5;241m=\u001b[39m(\u001b[38;5;241m3\u001b[39m,\u001b[38;5;241m3\u001b[39m))\n",
      "Cell \u001b[1;32mIn[7], line 7\u001b[0m, in \u001b[0;36manalyse_frame\u001b[1;34m(frame)\u001b[0m\n\u001b[0;32m      5\u001b[0m X \u001b[38;5;241m=\u001b[39m []\n\u001b[0;32m      6\u001b[0m scaled_raw_img \u001b[38;5;241m=\u001b[39m cv2\u001b[38;5;241m.\u001b[39mresize(frame, (\u001b[38;5;241m80\u001b[39m,\u001b[38;5;241m80\u001b[39m))\n\u001b[1;32m----> 7\u001b[0m img_har \u001b[38;5;241m=\u001b[39m w2d(frame,\u001b[38;5;124m'\u001b[39m\u001b[38;5;124mbior2.2\u001b[39m\u001b[38;5;124m'\u001b[39m,\u001b[38;5;241m4\u001b[39m)\n\u001b[0;32m      8\u001b[0m scaled_img_har \u001b[38;5;241m=\u001b[39m cv2\u001b[38;5;241m.\u001b[39mresize(img_har, (\u001b[38;5;241m80\u001b[39m,\u001b[38;5;241m80\u001b[39m))\n\u001b[0;32m      9\u001b[0m combined_img \u001b[38;5;241m=\u001b[39m np\u001b[38;5;241m.\u001b[39mvstack((scaled_raw_img\u001b[38;5;241m.\u001b[39mreshape(\u001b[38;5;241m80\u001b[39m\u001b[38;5;241m*\u001b[39m\u001b[38;5;241m80\u001b[39m, \u001b[38;5;241m1\u001b[39m), scaled_img_har\u001b[38;5;241m.\u001b[39mreshape(\u001b[38;5;241m80\u001b[39m\u001b[38;5;241m*\u001b[39m\u001b[38;5;241m80\u001b[39m\u001b[38;5;241m*\u001b[39m\u001b[38;5;241m1\u001b[39m, \u001b[38;5;241m1\u001b[39m)))\n",
      "Cell \u001b[1;32mIn[6], line 23\u001b[0m, in \u001b[0;36mw2d\u001b[1;34m(img, wavelet, level)\u001b[0m\n\u001b[0;32m     21\u001b[0m coeffs_H \u001b[38;5;241m=\u001b[39m \u001b[38;5;28mlist\u001b[39m(coeffs)\n\u001b[0;32m     22\u001b[0m coeffs_H[\u001b[38;5;241m0\u001b[39m] \u001b[38;5;241m*\u001b[39m\u001b[38;5;241m=\u001b[39m \u001b[38;5;241m0\u001b[39m\n\u001b[1;32m---> 23\u001b[0m arrH \u001b[38;5;241m=\u001b[39m pywt\u001b[38;5;241m.\u001b[39mwaverec2(coeffs_H, mode)\n\u001b[0;32m     24\u001b[0m arrH \u001b[38;5;241m+\u001b[39m\u001b[38;5;241m=\u001b[39m \u001b[38;5;241m255\u001b[39m\n\u001b[0;32m     25\u001b[0m arrH \u001b[38;5;241m=\u001b[39m np\u001b[38;5;241m.\u001b[39muint8(arrH)\n",
      "\u001b[1;31mNameError\u001b[0m: name 'mode' is not defined"
     ]
    }
   ],
   "source": [
    "i=0\n",
    "fps = cap.get(cv2.CAP_PROP_FPS)\n",
    "\n",
    "# Read until video is completed\n",
    "while(cap.isOpened()):\n",
    "    if i % 60 != 0 and i <= (fps * result['segments'][-1]['end']):\n",
    "        i+=1\n",
    "        continue\n",
    "    # Capture frame-by-frame\n",
    "    ret, frame = cap.read()\n",
    "    if ret == True:\n",
    "        frame = cv2.cvtColor(frame,cv2.COLOR_BGR2GRAY)\n",
    "        scaled_raw_img = preprocess_frame(frame)\n",
    "        analyse_frame(scaled_raw_img)\n",
    "        \n",
    "        # # Display the resulting frame\n",
    "        plt.figure(figsize=(3,3))\n",
    "        plt.imshow(frame)\n",
    "        plt.axis('off')\n",
    "        plt.show()\n",
    "\n",
    "        print(i, end='\\t')\n",
    "\n",
    "    # Break the loop\n",
    "    else:\n",
    "        break\n",
    "    i+=1"
   ]
  },
  {
   "cell_type": "code",
   "execution_count": null,
   "metadata": {},
   "outputs": [],
   "source": [
    "from empath import Empath\n",
    "lexicon = Empath()"
   ]
  },
  {
   "cell_type": "code",
   "execution_count": null,
   "metadata": {},
   "outputs": [],
   "source": [
    "text_map = {'0': \"The person is not depressed.\", \n",
    "            '1':\"The person is mildly depressed\", \n",
    "            '2':\"The person is severely depressed.\"}\n",
    "\n",
    "empath_encoded_test = []\n",
    "\n",
    "analysis = lexicon.analyze(result['text'], normalize=True)\n",
    "array = [value for value in analysis.values()]\n",
    "empath_encoded_test.append(array)"
   ]
  },
  {
   "cell_type": "code",
   "execution_count": null,
   "metadata": {},
   "outputs": [],
   "source": [
    "text_model = joblib.load(\"text_classification.joblib\")\n",
    "y_pred = text_model.predict(empath_encoded_test)\n",
    "print(text_map.get(str(y_pred[0])), '\\n\\n\\n')"
   ]
  },
  {
   "cell_type": "code",
   "execution_count": null,
   "metadata": {},
   "outputs": [],
   "source": [
    "print(text_map.get(str(y_pred[0])), '\\n\\n\\n')\n",
    "\n",
    "i = 0; results = []\n",
    "for text in result['segments']:\n",
    "    i += 60\n",
    "    if predicted_values[i] == 0:\n",
    "        print(\"Angry:\", text['text'])\n",
    "    elif predicted_values[i] == 1:\n",
    "        print(\"Disgusted:\", text['text'])\n",
    "    elif predicted_values[i] == 2:\n",
    "        print(\"Fearful:\", text['text'])\n",
    "    elif predicted_values[i] == 3:\n",
    "        print(\"Happy:\", text['text'])\n",
    "    elif predicted_values[i] == 4:\n",
    "        print(\"Neutral:\", text['text'])\n",
    "    elif predicted_values[i] == 5:\n",
    "        print(\"Sad:\", text['text'])\n",
    "    elif predicted_values[i] == 6:\n",
    "        print(\"Surprised:\", text['text'])"
   ]
  },
  {
   "cell_type": "code",
   "execution_count": null,
   "metadata": {},
   "outputs": [],
   "source": []
  }
 ],
 "metadata": {
  "colab": {
   "provenance": []
  },
  "kernelspec": {
   "display_name": "Python 3 (ipykernel)",
   "language": "python",
   "name": "python3"
  },
  "language_info": {
   "codemirror_mode": {
    "name": "ipython",
    "version": 3
   },
   "file_extension": ".py",
   "mimetype": "text/x-python",
   "name": "python",
   "nbconvert_exporter": "python",
   "pygments_lexer": "ipython3",
   "version": "3.12.2"
  }
 },
 "nbformat": 4,
 "nbformat_minor": 4
}
